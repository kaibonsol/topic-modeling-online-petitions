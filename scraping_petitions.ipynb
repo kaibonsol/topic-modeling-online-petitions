{
 "cells": [
  {
   "cell_type": "code",
   "execution_count": 122,
   "metadata": {
    "collapsed": true
   },
   "outputs": [],
   "source": [
    "# -*- coding: utf-8 -*-\n",
    "\n",
    "from __future__ import division, unicode_literals\n",
    "\n",
    "import pandas as pd\n",
    "import numpy as np\n",
    "\n",
    "import dateutil\n",
    "import datetime\n",
    "import time\n",
    "from time import sleep\n",
    "\n",
    "import re\n",
    "import html5lib\n",
    "\n",
    "import pickle\n",
    "import json"
   ]
  },
  {
   "cell_type": "code",
   "execution_count": 123,
   "metadata": {
    "collapsed": false
   },
   "outputs": [],
   "source": [
    "# Selenium imports\n",
    "import selenium\n",
    "from selenium import webdriver\n",
    "from selenium.webdriver import ActionChains\n",
    "from selenium.webdriver.support.wait import WebDriverWait\n",
    "from selenium.webdriver.common.by import By\n",
    "from selenium.webdriver.support import expected_conditions as EC\n",
    "from selenium.webdriver.common.keys import Keys\n",
    "from pyvirtualdisplay import Display\n",
    "\n",
    "import os"
   ]
  },
  {
   "cell_type": "code",
   "execution_count": 124,
   "metadata": {
    "collapsed": true
   },
   "outputs": [],
   "source": [
    "# timing function\n",
    "def timefunc(f):\n",
    "    def f_timer(*args, **kwargs):\n",
    "        start = time.time()\n",
    "        result = f(*args, **kwargs)\n",
    "        end = time.time()\n",
    "        print(f.__name__, 'took', end - start, 'seconds')\n",
    "        return result\n",
    "    return f_timer"
   ]
  },
  {
   "cell_type": "markdown",
   "metadata": {},
   "source": [
    "## Functions to scrape petition URLs"
   ]
  },
  {
   "cell_type": "code",
   "execution_count": 155,
   "metadata": {
    "collapsed": false
   },
   "outputs": [],
   "source": [
    "# Setting up chromedriver\n",
    "chromedriver = 'C:/WebDriver/bin/'\n",
    "os.environ['webdriver.chrome.driver'] = chromedriver\n",
    "driver = webdriver.Chrome(executable_path='C:/WebDriver/bin/chromedriver.exe')"
   ]
  },
  {
   "cell_type": "code",
   "execution_count": 156,
   "metadata": {
    "collapsed": false
   },
   "outputs": [
    {
     "output_type": "execute_result",
     "data": {
      "text/plain": [
       "\"\\n@timefunc\\ndef chunk_petition_urls(dic, base, first, last, chunk):\\n    for c in range(first, last+1, chunk):\\n        d = get_petition_urls(base, c, c+chunk)\\n        dic.update(d)\\n        filename = 'master' + str(c+chunk) + '.pkl'\\n        with open(filename, 'wb') as f:\\n            pk.dump(dic,f,-1)\\n    return dic\\n\""
      ]
     },
     "metadata": {},
     "execution_count": 156
    }
   ],
   "source": [
    "# go straight to most-recent pages\n",
    "petitions_url = 'https://www.change.org/petitions?selected=popular_weekly' # up to 5084\n",
    "driver.get(petitions_url)\n",
    "\n",
    "\n",
    "def get_petition_urls(start):\n",
    "    d = []\n",
    "    petitions = WebDriverWait(driver, 10).until(EC.presence_of_all_elements_located((By.CSS_SELECTOR, \".col-xs-12.col-md-8.col-md-offset-2 [href]\")))\n",
    "    stop = start+10\n",
    "    for p in petitions[start:stop]:\n",
    "        d.append(p.get_attribute('href'))\n",
    "    return d\n",
    "\n",
    "\n",
    "def click_load_more():\n",
    "    driver.find_element_by_css_selector('.btn.btn-big.btn-full.bg-brighter').click()\n",
    "\n",
    "@timefunc\n",
    "def open_list(limit):\n",
    "    for i in range(0, limit):\n",
    "        try:\n",
    "            click_load_more()\n",
    "        except NoSuchElementException:\n",
    "            sleep(2)\n",
    "        sleep(2)\n",
    "\n",
    "def update_next10(dic, start):\n",
    "    d = get_petition_urls(start)\n",
    "    dic.extend(d)\n",
    "    #return dic\n",
    "\n",
    "@timefunc\n",
    "def get1000(dic, limit):\n",
    "    start = 4\n",
    "    for i in range(0, limit):\n",
    "        update_next10(dic, start)\n",
    "        start += 10\n",
    "    return start\n",
    "\"\"\"\n",
    "@timefunc\n",
    "def chunk_petition_urls(dic, base, first, last, chunk):\n",
    "    for c in range(first, last+1, chunk):\n",
    "        d = get_petition_urls(base, c, c+chunk)\n",
    "        dic.update(d)\n",
    "        filename = 'master' + str(c+chunk) + '.pkl'\n",
    "        with open(filename, 'wb') as f:\n",
    "            pk.dump(dic,f,-1)\n",
    "    return dic\n",
    "\"\"\""
   ]
  },
  {
   "cell_type": "markdown",
   "metadata": {},
   "source": [
    "## Creating master dictionary of petition URLs"
   ]
  },
  {
   "cell_type": "code",
   "execution_count": 157,
   "metadata": {
    "collapsed": false,
    "tags": []
   },
   "outputs": [
    {
     "output_type": "stream",
     "name": "stdout",
     "text": [
      "open_list took 151.84982442855835 seconds\n",
      "get1000 took 8.746758460998535 seconds\n"
     ]
    },
    {
     "output_type": "execute_result",
     "data": {
      "text/plain": [
       "554"
      ]
     },
     "metadata": {},
     "execution_count": 157
    }
   ],
   "source": [
    "#urls1000 = chunk_petition_urls(master, petitions_url, 1, 1000, 100)\n",
    "urls1000 = []\n",
    "limit = 55\n",
    "open_list(limit)\n",
    "get1000(urls1000, limit)\n",
    "\n",
    "\n",
    "#with open(\"pickles/urls1000.pickle\", 'wb') as f:\n",
    "#    pickle.dump(urls1000, f)"
   ]
  },
  {
   "cell_type": "code",
   "execution_count": 158,
   "metadata": {
    "collapsed": false,
    "tags": [
     "outputPrepend"
    ]
   },
   "outputs": [
    {
     "output_type": "stream",
     "name": "stdout",
     "text": [
      "vices-in-norwood?source_location=petitions_browse', 'https://www.change.org/p/cameron-county-re-open-rgv-playgrounds?source_location=petitions_browse', 'https://www.change.org/p/united-nations-please-act-now-to-ban-fur-farming-across-the-world?source_location=petitions_browse', 'https://www.change.org/p/james-lankford-the-resignation-of-oklahoma-senator-james-lankford?source_location=petitions_browse', 'https://www.change.org/p/the-wjusd-board-of-directors-nullify-all-grades-in-the-wjusd?source_location=petitions_browse', 'https://www.change.org/p/alhambra-hospital-administration-alhambra-hospital-medical-center-respect-your-nurses-and-patients?source_location=petitions_browse', 'https://www.change.org/p/aspca-stop-buying-puppies-from-puppy-mills-adopt-don-t-shop?source_location=petitions_browse', 'https://www.change.org/p/truckee-tahoe-unified-school-district-get-the-kids-back-to-school?source_location=petitions_browse', 'https://www.change.org/p/northeastern-local-school-district-northeastern-local-school-district-return-to-full-school-schedule?source_location=petitions_browse', 'https://www.change.org/p/westchester-county-government-opt-in-to-the-nys-maternity-leave-plan-for-westchester-county-law-enforcement-officers?source_location=petitions_browse', 'https://www.change.org/p/andrew-warren-tell-the-sa-to-investigate-cieha-taylor-s-disappearance-as-a-potential-hate-crime?source_location=petitions_browse', 'https://www.change.org/p/saving-coaches-job-save-coach-davis-job-business-over-opinions?source_location=petitions_browse', 'https://www.change.org/p/adeel-rana-nypd-84th-precinct-commanding-officer-fire-nypd-officer-artem-prusayev?source_location=petitions_browse', 'https://www.change.org/p/united-nations-demand-for-justice-for-congolese-girls-and-women-who-are-victims-of-sexual-violence?source_location=petitions_browse', 'https://www.change.org/p/change-org-petitions-to-remove-amber-heard-from-aquaman-perpetuates-abuse-towards-women-who-speak-up?source_location=petitions_browse', 'https://www.change.org/p/u-s-justice-department-abolish-the-death-penalty-and-halt-all-u-s-federal-executions-efbebedd-3e79-4cc2-8a4b-fc34372ef12b?source_location=petitions_browse', 'https://www.change.org/p/greece-must-recognize-the-albanian-genocide?source_location=petitions_browse', 'https://www.change.org/p/bend-lapine-school-district-keep-education-online-until-after-vaccinations-have-been-locally-distributed?source_location=petitions_browse', 'https://www.change.org/p/missouri-clemency-for-my-dad-dionysus-soubasis-who-is-serving-30-years-for-non-violent-drug-crime?source_location=petitions_browse', 'https://www.change.org/p/harford-county-council-save-abingdon-woods-3a937cea-9e13-427d-a70c-448595c01e2e?source_location=petitions_browse', 'https://www.change.org/p/u-s-senate-hold-roger-marshall-accountable-for-his-actions?source_location=petitions_browse', 'https://www.change.org/p/allatoona-high-school-change-the-school-dress-code-for-girls-at-allatoona-high-school?source_location=petitions_browse', 'https://www.change.org/p/u-s-house-of-representatives-ban-animal-abuse-2fcb227e-eff9-47f2-baba-543091d7ffc6?source_location=petitions_browse', 'https://www.change.org/p/stanislaus-county-board-of-supervisors-bring-the-snip-bus-to-the-low-income-areas-of-stanislaus-county-for-low-cost-spay-neuter?source_location=petitions_browse', 'https://www.change.org/p/usa-gym-usa-gymnastics-must-eliminate-sports-bra-deductions?source_location=petitions_browse', 'https://www.change.org/p/support-liz-cheney?source_location=petitions_browse', 'https://www.change.org/p/ted-cruz-recall-remove-liz-cheney-from-office?source_location=petitions_browse', 'https://www.change.org/p/shore-regional-high-school-stop-the-schedule-change?source_location=petitions_browse', 'https://www.change.org/p/united-states-attorney-general-petition-to-hold-mainstream-media-responsible-for-violation-of-fcc-broadcasting-false-info?source_location=petitions_browse', 'https://www.change.org/p/parole-comission-stop-the-release-o-jason-ransom-convicted-killer-of-marcin-placek?source_location=petitions_browse', 'https://www.change.org/p/lee-county-school-board-tell-the-lee-county-school-board-to-protect-first-amendment-rights?source_location=petitions_browse', 'https://www.change.org/p/do-you-think-every-parent-guardian-should-be-notified-when-there-is-a-positive-covid-19-case-in-your-student-s-classroom?source_location=petitions_browse', 'https://www.change.org/p/stop-the-slaughter-of-the-yellowstone-bison-our-national-mammal-strengthen-the-national-bison-legacy-act?source_location=petitions_browse', 'https://www.change.org/p/auburn-university-open-more-dining-options-for-students-at-auburn-university?source_location=petitions_browse', 'https://www.change.org/p/sonoma-valley-board-of-education-a-petition-to-name-svhs-s-new-stadium-midgley-field?source_location=petitions_browse', 'https://www.change.org/p/nfl-add-closed-captioning-to-all-nfl-videos?source_location=petitions_browse', 'https://www.change.org/p/law-students-virginia-anti-death-penalty-bill-sb1165?source_location=petitions_browse', 'https://www.change.org/p/twitter-inc-twitter-and-facebook-permanently-ban-donald-trump?source_location=petitions_browse', 'https://www.change.org/p/change-clovis-schools-schedule-back-to-starting-at-9am?source_location=petitions_browse', 'https://www.change.org/p/united-states-supreme-court-remove-pennsylvania-representative-mike-kelly-from-congress-for-inciting-an-insurrection?source_location=petitions_browse', 'https://www.change.org/p/cuyahoga-county-prosecutor-michael-c-o-malley-russell-tye-conviction-integrity-unit-free-marcus-blalock?source_location=petitions_browse', 'https://www.change.org/p/citizens-concerned-about-the-mental-of-our-leaders-petition-to-president-elect-joseph-r-biden-jr-re-health-and-human-services-appointee?source_location=petitions_browse', 'https://www.change.org/p/los-angeles-police-department-justice-for-berlinda-nibo-the-black-woman-attacked-while-walking-past-a-pro-trump-rally?source_location=petitions_browse', 'https://www.change.org/p/brooklyn-stop-open-streets-from-becoming-a-permanent-fixture-in-greenpoint?source_location=petitions_browse', 'https://www.change.org/p/summit-county-board-of-county-commissioners-a-new-home-for-blue-river-horse-center?source_location=petitions_browse', 'https://www.change.org/p/nj-governor-phil-murphy-www-state-nj-us-governor-contact-all-save-the-historic-squire-farmhouse-in-south-orange-nj?source_location=petitions_browse', 'https://www.change.org/p/representative-jim-banks-jim-banks-to-resign-for-sedition-against-america?source_location=petitions_browse', 'https://www.change.org/p/gaylesville-high-school-proper-punishment-for-discrimination-against-another-student?source_location=petitions_browse', 'https://www.change.org/p/swag-tracy-x-uzi?source_location=petitions_browse', 'https://www.change.org/p/the-build-of-a-public-skatepark-in-lake-arrowhead-ca?source_location=petitions_browse', 'https://www.change.org/p/innocent-project-for-the-innocent-project-to-fight-for-raque-burkeholder?source_location=petitions_browse', 'https://www.change.org/p/christina-school-district-keep-our-community-safe?source_location=petitions_browse', 'https://www.change.org/p/anyone-on-social-media-take-away-lana-s-typewriter?source_location=petitions_browse', 'https://www.change.org/p/united-states-department-of-agriculture-usda-shut-down-nj-exotic-pets?source_location=petitions_browse', 'https://www.change.org/p/transition-team-why-president-elect-biden-should-select-dr-jerry-milner-to-run-the-children-s-bureau-361bc071-69c3-49aa-80ab-806cbf0bf699?source_location=petitions_browse', 'https://www.change.org/p/support-deer-valley-teacher-covid-19-safety-concerns?source_location=petitions_browse', 'https://www.change.org/p/fair-fight-louder-than-a-riot?source_location=petitions_browse', 'https://www.change.org/p/business-community-armenian-community-in-washington-d-c-demands-nikol-pashinyan-s-immediate-resignation?source_location=petitions_browse', 'https://www.change.org/p/governor-gavin-newsom-enforce-cal-osha-covid-19-standards-compliance-in-all-state-employee-workplaces?source_location=petitions_browse', 'https://www.change.org/p/city-of-westlake-village-light-up-westlake-skate-park?source_location=petitions_browse', 'https://www.change.org/p/voters-of-the-city-of-saratoga-recall-yan-zhao-and-tina-walia-from-the-city-council-of-saratoga-ca?source_location=petitions_browse', 'https://www.change.org/p/na-d7547a49-7dde-4475-b038-40fa2751adba?source_location=petitions_browse', 'https://www.change.org/p/mayor-horrigan-save-theiss-rd-property-near-cuyahoga-valley-national-park-for-park-use-and-greenspace?source_location=petitions_browse', 'https://www.change.org/p/abbot-dane-radecki-end-clergy-sex-abuse-cover-up-and-reviticimization-in-wisconsin?source_location=petitions_browse', 'https://www.change.org/p/cusd-304-get-our-kids-back-in-school?source_location=petitions_browse', 'https://www.change.org/p/the-walt-disney-company-have-frozen-on-broadway-professionally-filmed-with-the-most-recent-broadway-cast?source_location=petitions_browse', 'https://www.change.org/p/chris-jacobs-stop-companies-from-destroying-parler?source_location=petitions_browse', 'https://www.change.org/p/federal-bureau-of-investigation-justice-for-omari-bryant?source_location=petitions_browse', 'https://www.change.org/p/netflix-stream-the-cove-on-hulu-netflix-and-amazon-prime?source_location=petitions_browse', 'https://www.change.org/p/marco-rubio-stop-letting-petty-charges-ruin-our-opportunity-for-jobs?source_location=petitions_browse', 'https://www.change.org/p/f-a-i-r-damitabishop-fair-yahoo-com-free-anthony-jefferson?source_location=petitions_browse', 'https://www.change.org/p/auburn-school-board-members-harriet-tubman-high-school-initiative?source_location=petitions_browse', 'https://www.change.org/p/the-murdock-city-council-stop-the-asatru-folk-assembly-from-creating-an-all-white-church-in-murdock-minnesota?source_location=petitions_browse', 'https://www.change.org/p/tom-smith-bring-the-cupcake-act-to-monroe-county?source_location=petitions_browse', 'https://www.change.org/p/north-dakota-state-senate-sexual-assault-registration?source_location=petitions_browse', 'https://www.change.org/p/united-states-supreme-court-the-united-states-government-must-end-life-without-parole-sentences-against-juveniles?source_location=petitions_browse', 'https://www.change.org/p/justin-trudeau-stop-the-seal-hunt-dead82e3-dc6f-46ad-a4af-4e45d8b55e97?source_location=petitions_browse', 'https://www.change.org/p/twitter-inc-lil-uzi-vert-drop-these-songs?source_location=petitions_browse', 'https://www.change.org/p/pennsylvania-state-house-think-about-the-kids-attention-brings-awareness?source_location=petitions_browse', 'https://www.change.org/p/usd-230-board-of-education-in-person-school-for-all-students-in-usd-230?source_location=petitions_browse', 'https://www.change.org/p/college-board-shorten-the-full-length-ap-tests?source_location=petitions_browse', 'https://www.change.org/p/president-trump-please-help-federal-inmates-stay-in-touch-with-their-family-during-the-covid-19-pandemic?source_location=petitions_browse', 'https://www.change.org/p/need-help-removing-neighbor-from-apartments-due-to-been-assaulted-by-them-i-got-assaulted-by-a-minor-who-happens-to-be-a-neighbor-and-need-help-removing-them?source_location=petitions_browse', 'https://www.change.org/p/mary-j-blige-fans-we-need-an-official-mary-j-blige-boot-line?source_location=petitions_browse', 'https://www.change.org/p/rochester-school-board-keep-rochester-students-remote-save-lives?source_location=petitions_browse', 'https://www.change.org/p/trump-adminstration-save-the-artic-refuge?source_location=petitions_browse', 'https://www.change.org/p/milwaukee-zoo-end-animal-captivity?source_location=petitions_browse', 'https://www.change.org/p/people-for-the-ethical-treatment-of-animals-peta-no-running-hunting-dogs-in-va?source_location=petitions_browse', 'https://www.change.org/p/mayor-sylvester-turner-city-of-houston-honor-victor-stanley-peterzen-change-moorberry-ln-to-victor-stanley-ave?source_location=petitions_browse', 'https://www.change.org/p/us-supreme-court-stop-fetal-burial-laws-5f00d341-d2ee-4287-bfa4-cd92f9eb821f?source_location=petitions_browse', 'https://www.change.org/p/u-s-house-of-representatives-remove-debbie-lesko-david-schweikert-paul-gosar-andy-biggs?source_location=petitions_browse', 'https://www.change.org/p/andrew-m-cuomo-allow-bars-to-stay-open-past-10-for-the-super-bowl?source_location=petitions_browse', 'https://www.change.org/p/newtown-township-supervisors-save-greer-winding-way-pond-e919e894-14f7-4381-b294-ef4eb7fe4baa?source_location=petitions_browse', 'https://www.change.org/p/senator-john-hoeven-stop-the-lies-hold-senators-cramer-and-hoeven-accountable?source_location=petitions_browse', 'https://www.change.org/p/united-states-department-of-transportation-removal-of-marijuana-from-employment-drug-screening-transition-from-urine-to-swab-tests?source_location=petitions_browse', 'https://www.change.org/p/chicago-police-department-justice-for-anjanette-young?source_location=petitions_browse', 'https://www.change.org/p/detr-pay-nevada-pua-claimaints-their-benefits?source_location=petitions_browse', 'https://www.change.org/p/the-people-resign-sen-ted-cruz-matt-gaetz-and-josh-hawley?source_location=petitions_browse', 'https://www.change.org/p/south-carolina-dhec-army-corps-stop-the-chop-in-sullivan-s-island-maritime-forest?source_location=petitions_browse', 'https://www.change.org/p/east-lyme-board-of-selectman-officially-declare-racism-a-public-health-crisis-in-east-lyme?source_location=petitions_browse', 'https://www.change.org/p/american-morgan-horse-association-american-morgan-horse-association-to-register-half-morgans-morgan-sport-horses?source_location=petitions_browse', 'https://www.change.org/p/oppose-the-expansion-at-middle-river-regional-jail?source_location=petitions_browse', 'https://www.change.org/p/kayakers-no-to-hb1018-boater-education-card-for-kayakers-sup?source_location=petitions_browse', 'https://www.change.org/p/alton-state-of-texas-adult-protective-services-please-please-help-me-by-undoing-these-things-it-is-currently-affecting-me?source_location=petitions_browse', 'https://www.change.org/p/surface-transportation-board-reject-approval-of-union-pacific-s-lease-agreement-for-the-tennessee-pass-line?source_location=petitions_browse', 'https://www.change.org/p/trader-joe-s-bring-trader-joe-s-to-patchogue-ny?source_location=petitions_browse', 'https://www.change.org/p/senators-make-insurance-companies-grant-full-benefit-access-during-covid?source_location=petitions_browse', 'https://www.change.org/p/bryan-steil-revoke-kyle-rittenhouse-s-bail?source_location=petitions_browse', 'https://www.change.org/p/dc-replace-amber-heard-with-danny-devito-in-aquaman?source_location=petitions_browse', 'https://www.change.org/p/apple-apple-securely-unlock-our-devices-without-data-loss?source_location=petitions_browse', 'https://www.change.org/p/hearing-examiner-oppose-milton-megachurch-proposal-on-23rd-taylor-91638f20-2f52-49ac-b6cb-a8478aa49b11?source_location=petitions_browse', 'https://www.change.org/p/new-york-state-bar-association-disbar-rudy-giuliani?source_location=petitions_browse', 'https://www.change.org/p/u-s-house-of-representatives-make-it-a-hate-crime-to-attack-someone-for-political-reason?source_location=petitions_browse', 'https://www.change.org/p/vacaville-police-department-stop-in-humane-treatment-of-k-9-dogs?source_location=petitions_browse', 'https://www.change.org/p/ucla-ucla-adopt-out-the-dogs-in-your-lab?source_location=petitions_browse', 'https://www.change.org/p/north-babylon-union-free-school-district-reinstate-ms-casserly?source_location=petitions_browse', 'https://www.change.org/p/peter-schoppert-director-nus-press-defend-academic-freedom-at-nus-press-dcefceb9-71dd-493f-abfe-127f37818706?source_location=petitions_browse', 'https://www.change.org/p/florida-state-senate-apprehend-culprit-who-disfigured-a-manatee-for-political-purposes?source_location=petitions_browse', 'https://www.change.org/p/loudoun-county-board-of-supervisors-we-want-gun-free-parks-libraries-recreation-centers-county-buildings-in-loudoun-county?source_location=petitions_browse', 'https://www.change.org/p/justice-for-quawan-bobby-charles-justice-for-quawan-bobby-charles-independent-autopsy?source_location=petitions_browse', 'https://www.change.org/p/board-of-prison-term-commissioners-prisons-are-overpopulated-with-lifers-who-have-been-there-for-decades?source_location=petitions_browse', 'https://www.change.org/p/residents-of-georgia-gop-of-georgia-recall-georgia-governor-brian-kemp-and-secretary-of-state-brad-raffensperger?source_location=petitions_browse', 'https://www.change.org/p/ohio-governor-forgiveness-matters?source_location=petitions_browse', 'https://www.change.org/p/town-of-fort-mill-sidewalk-access-to-catawba-ridge-high-school-and-forest-creek-middle-school?source_location=petitions_browse', 'https://www.change.org/p/target-stop-hartz-products-from-hurting-and-killing-dogs?source_location=petitions_browse', 'https://www.change.org/p/united-states-supreme-court-put-amber-heard-behind-bars?source_location=petitions_browse', 'https://www.change.org/p/tulsa-city-council-save-the-met-s-recycling-depots-da2fd55a-efbe-443a-bff6-61ed94bb861c?source_location=petitions_browse', 'https://www.change.org/p/shanique-porch-parks-nyc-gov-help-5-star-soccer-academy?source_location=petitions_browse', 'https://www.change.org/p/clermont-county-commissioners-and-administrator-keep-clermont-county-ohio-animal-shelter-a-no-kill?source_location=petitions_browse', 'https://www.change.org/p/school-board-of-broward-county-teach-the-impacts-of-climate-change-in-broward-schools?source_location=petitions_browse', 'https://www.change.org/p/elizabeth-mann-justice-for-heaven?source_location=petitions_browse', 'https://www.change.org/p/don-t-demolish-the-domes?source_location=petitions_browse', 'https://www.change.org/p/california-state-parks-open-border-field-state-park?source_location=petitions_browse', 'https://www.change.org/p/the-amesbury-school-commitee-change-the-amesbury-high-school-mascot?source_location=petitions_browse', 'https://www.change.org/p/arizona-state-house-covid-19-testing-for-hospital-visitors-that-have-loved-one-s-in-icu-or-critical-condition-a4e0a4bd-3cee-47c8-b3fa-e735fd5acbc6?source_location=petitions_browse', 'https://www.change.org/p/alabama-state-senate-please-join-us-in-the-fight-against-anti-trans-youth-legislation?source_location=petitions_browse', 'https://www.change.org/p/j-b-pritzker-reduce-sentence-for-man-excessively-sentenced-as-a-teenager?source_location=petitions_browse', 'https://www.change.org/p/grand-canyon-university-demand-justice-for-wrongfully-terminated-dance-professor?source_location=petitions_browse', 'https://www.change.org/p/puppyspot-petsmart-stop-abandoning-dogs?source_location=petitions_browse', 'https://www.change.org/p/united-states-air-force-and-the-pentagon-court-martial-retired-lt-col-larry-rendall-brock-jr?source_location=petitions_browse', 'https://www.change.org/p/andrew-m-cuomo-let-our-kids-play-sports?source_location=petitions_browse', 'https://www.change.org/p/westfield-high-school-keep-westfield-s-girls-fitness-class?source_location=petitions_browse', 'https://www.change.org/p/u-s-senate-expel-josh-hawley?source_location=petitions_browse', 'https://www.change.org/p/christchurch-administration-allow-christchurch-students-to-compete-in-athletic-events?source_location=petitions_browse', 'https://www.change.org/p/mayor-bill-de-blasio-fight-food-insecurity-fund-coupons-to-build-healthy-local-small-fresh-food-businesses?source_location=petitions_browse', 'https://www.change.org/p/district-attorney-justice-for-brandi-garcia-no-release-for-robert-mentz?source_location=petitions_browse']\n"
     ]
    },
    {
     "output_type": "execute_result",
     "data": {
      "text/plain": [
       "550"
      ]
     },
     "metadata": {},
     "execution_count": 158
    }
   ],
   "source": [
    "print(urls1000)\n",
    "len(urls1000)"
   ]
  },
  {
   "cell_type": "markdown",
   "metadata": {},
   "source": [
    "# access each url and visit \n",
    "Make pandas dataframe that has petition name, image link, description, date<br/>\n",
    "Try to put into json file with structure:<br/>\n",
    "\n",
    "\"petitions\": \\[<br/>\n",
    "    &emsp;&emsp;{<br/>\n",
    "        &emsp;&emsp;&emsp;\"title\" : \"\",<br/>\n",
    "        &emsp;&emsp;&emsp;\"description\" : \"\",<br/>\n",
    "        &emsp;&emsp;&emsp;\"image link\" : \"\"<br/>\n",
    "    &emsp;&emsp;}, ...<br/>\n",
    "\\]<br/>"
   ]
  },
  {
   "cell_type": "code",
   "execution_count": 159,
   "metadata": {},
   "outputs": [],
   "source": [
    "#with open(\"pickles/urls1000.pickle\", 'wb') as f:\n",
    "#    pickle.dump(urls1000, f)\n",
    "cleanr = re.compile(\"<.*?>\")\n",
    "def cleanhtml(raw_html, cleanr):\n",
    "    cleantext = re.sub(cleanr, '', raw_html)\n",
    "    return cleantext"
   ]
  },
  {
   "cell_type": "code",
   "execution_count": 160,
   "metadata": {},
   "outputs": [],
   "source": [
    "json_dictionary = {\"petitions\":[]}\n",
    "\n",
    "for url in urls1000:   \n",
    "\n",
    "    # visit url:\n",
    "    driver.get(url)\n",
    "\n",
    "    # collect description from <p> tags\n",
    "    description = \"\"\n",
    "    p_tags = driver.find_elements_by_css_selector(\".mbl.type-break-word.type-l.rte\")\n",
    "    for p in p_tags:\n",
    "        description += p.get_attribute(\"innerHTML\")\n",
    "\n",
    "    # strip to HTML\n",
    "    description = cleanhtml(description, cleanr)\n",
    "\n",
    "    # data cleaning- if description is short forget about this petition\n",
    "    if len(description) < 100:\n",
    "        continue\n",
    "\n",
    "    # collect title -- note: slow reloads can cause blank page-- sleep(0.1) to avoid but still continue if not\n",
    "    try:\n",
    "        title = driver.find_element_by_css_selector(\".mtl.mbxxxl.xs-mts.xs-mbxs.petition-title\").get_attribute(\"innerHTML\")\n",
    "    except NoSuchElementException:\n",
    "        continue\n",
    "\n",
    "    # collect image url\n",
    "\n",
    "    image_url = driver.find_element_by_css_selector(\".sc-fzpmMD.fPcnhl\").get_attribute(\"src\")\n",
    "\n",
    "    # define dictionary of petition data\n",
    "    petition_dictionary = {}\n",
    "    petition_dictionary[\"url\"] = url\n",
    "    petition_dictionary[\"title\"] = title\n",
    "    petition_dictionary[\"description\"] = description\n",
    "    petition_dictionary[\"image_url\"] = image_url\n",
    "\n",
    "    json_dictionary[\"petitions\"].append(petition_dictionary)\n",
    "    sleep(0.1)\n",
    "\n",
    "with open(\"petitions500.json\", \"w\") as outfile:\n",
    "    json.dump(json_dictionary, outfile)\n",
    "  \n",
    "\n"
   ]
  },
  {
   "cell_type": "code",
   "execution_count": 161,
   "metadata": {},
   "outputs": [
    {
     "output_type": "execute_result",
     "data": {
      "text/plain": [
       "548"
      ]
     },
     "metadata": {},
     "execution_count": 161
    }
   ],
   "source": [
    "len(json_dictionary[\"petitions\"])"
   ]
  },
  {
   "cell_type": "code",
   "execution_count": null,
   "metadata": {},
   "outputs": [],
   "source": []
  }
 ],
 "metadata": {
  "anaconda-cloud": {},
  "kernelspec": {
   "name": "python3",
   "display_name": "Python 3.8.7 64-bit",
   "metadata": {
    "interpreter": {
     "hash": "1e3fc3fd5cc6611b408713c484747d9500a6295d1233da3fe53fbb9b1a925342"
    }
   }
  },
  "language_info": {
   "codemirror_mode": {
    "name": "ipython",
    "version": 2
   },
   "file_extension": ".py",
   "mimetype": "text/x-python",
   "name": "python",
   "nbconvert_exporter": "python",
   "pygments_lexer": "ipython2",
   "version": "3.8.7-final"
  }
 },
 "nbformat": 4,
 "nbformat_minor": 0
}