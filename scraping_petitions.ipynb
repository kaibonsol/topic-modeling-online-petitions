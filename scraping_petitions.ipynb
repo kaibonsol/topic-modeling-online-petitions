{
 "cells": [
  {
   "cell_type": "code",
   "execution_count": 92,
   "metadata": {
    "collapsed": true
   },
   "outputs": [],
   "source": [
    "# -*- coding: utf-8 -*-\n",
    "\n",
    "from __future__ import division, unicode_literals\n",
    "\n",
    "import pandas as pd\n",
    "import numpy as np\n",
    "\n",
    "import dateutil\n",
    "import datetime\n",
    "import time\n",
    "from time import sleep\n",
    "\n",
    "import re\n",
    "import html5lib\n",
    "\n",
    "import pickle\n",
    "import json"
   ]
  },
  {
   "cell_type": "code",
   "execution_count": 93,
   "metadata": {
    "collapsed": false
   },
   "outputs": [],
   "source": [
    "# Selenium imports\n",
    "import selenium\n",
    "from selenium import webdriver\n",
    "from selenium.webdriver import ActionChains\n",
    "from selenium.webdriver.support.wait import WebDriverWait\n",
    "from selenium.webdriver.common.by import By\n",
    "from selenium.webdriver.support import expected_conditions as EC\n",
    "from selenium.webdriver.common.keys import Keys\n",
    "from pyvirtualdisplay import Display\n",
    "\n",
    "import os"
   ]
  },
  {
   "cell_type": "code",
   "execution_count": 94,
   "metadata": {
    "collapsed": true
   },
   "outputs": [],
   "source": [
    "# timing function\n",
    "def timefunc(f):\n",
    "    def f_timer(*args, **kwargs):\n",
    "        start = time.time()\n",
    "        result = f(*args, **kwargs)\n",
    "        end = time.time()\n",
    "        print(f.__name__, 'took', end - start, 'seconds')\n",
    "        return result\n",
    "    return f_timer"
   ]
  },
  {
   "cell_type": "markdown",
   "metadata": {},
   "source": [
    "## Functions to scrape petition URLs"
   ]
  },
  {
   "cell_type": "code",
   "execution_count": 95,
   "metadata": {
    "collapsed": false
   },
   "outputs": [],
   "source": [
    "# Setting up chromedriver\n",
    "chromedriver = 'C:/WebDriver/bin/'\n",
    "os.environ['webdriver.chrome.driver'] = chromedriver\n",
    "driver = webdriver.Chrome(executable_path='C:/WebDriver/bin/chromedriver.exe')"
   ]
  },
  {
   "cell_type": "code",
   "execution_count": 96,
   "metadata": {
    "collapsed": false
   },
   "outputs": [
    {
     "output_type": "execute_result",
     "data": {
      "text/plain": [
       "\"\\n@timefunc\\ndef chunk_petition_urls(dic, base, first, last, chunk):\\n    for c in range(first, last+1, chunk):\\n        d = get_petition_urls(base, c, c+chunk)\\n        dic.update(d)\\n        filename = 'master' + str(c+chunk) + '.pkl'\\n        with open(filename, 'wb') as f:\\n            pk.dump(dic,f,-1)\\n    return dic\\n\""
      ]
     },
     "metadata": {},
     "execution_count": 96
    }
   ],
   "source": [
    "# go straight to most-recent pages\n",
    "petitions_url = 'https://www.change.org/petitions?selected=popular_weekly' # up to 5084\n",
    "driver.get(petitions_url)\n",
    "\n",
    "\n",
    "def get_petition_urls(start):\n",
    "    d = []\n",
    "    petitions = WebDriverWait(driver, 10).until(EC.presence_of_all_elements_located((By.CSS_SELECTOR, \".col-xs-12.col-md-8.col-md-offset-2 [href]\")))\n",
    "    stop = start+10\n",
    "    for p in petitions[start:stop]:\n",
    "        d.append(p.get_attribute('href'))\n",
    "    return d\n",
    "\n",
    "\n",
    "def click_load_more():\n",
    "    driver.find_element_by_css_selector('.btn.btn-big.btn-full.bg-brighter').click()\n",
    "\n",
    "@timefunc\n",
    "def open_list(limit):\n",
    "    for i in range(0, limit):\n",
    "        click_load_more()\n",
    "        sleep(0.1)\n",
    "\n",
    "def update_next10(dic, start):\n",
    "    d = get_petition_urls(start)\n",
    "    dic.extend(d)\n",
    "    #return dic\n",
    "\n",
    "@timefunc\n",
    "def get1000(dic, limit):\n",
    "    start = 4\n",
    "    for i in range(0, limit):\n",
    "        update_next10(dic, start)\n",
    "        start += 10\n",
    "    return start\n",
    "\"\"\"\n",
    "@timefunc\n",
    "def chunk_petition_urls(dic, base, first, last, chunk):\n",
    "    for c in range(first, last+1, chunk):\n",
    "        d = get_petition_urls(base, c, c+chunk)\n",
    "        dic.update(d)\n",
    "        filename = 'master' + str(c+chunk) + '.pkl'\n",
    "        with open(filename, 'wb') as f:\n",
    "            pk.dump(dic,f,-1)\n",
    "    return dic\n",
    "\"\"\""
   ]
  },
  {
   "cell_type": "markdown",
   "metadata": {},
   "source": [
    "## Creating master dictionary of petition URLs"
   ]
  },
  {
   "cell_type": "code",
   "execution_count": 97,
   "metadata": {
    "collapsed": false,
    "tags": []
   },
   "outputs": [
    {
     "output_type": "stream",
     "name": "stdout",
     "text": [
      "open_list took 7.1432271003723145 seconds\n",
      "get1000 took 1.2056236267089844 seconds\n"
     ]
    },
    {
     "output_type": "execute_result",
     "data": {
      "text/plain": [
       "304"
      ]
     },
     "metadata": {},
     "execution_count": 97
    }
   ],
   "source": [
    "#urls1000 = chunk_petition_urls(master, petitions_url, 1, 1000, 100)\n",
    "urls1000 = []\n",
    "limit = 30\n",
    "open_list(limit)\n",
    "get1000(urls1000, limit)\n",
    "\n",
    "\n",
    "#with open(\"pickles/urls1000.pickle\", 'wb') as f:\n",
    "#    pickle.dump(urls1000, f)"
   ]
  },
  {
   "cell_type": "code",
   "execution_count": 98,
   "metadata": {
    "collapsed": false,
    "tags": []
   },
   "outputs": [
    {
     "output_type": "stream",
     "name": "stdout",
     "text": [
      "['https://www.change.org/p/wrongly-convicted-savedustinjhiggs-com-help-me-change-the-narrative?source_location=petitions_browse', 'https://www.change.org/p/j-b-pritzker-governor-pritzker-veto-illinois-hb-3653?source_location=petitions_browse', 'https://www.change.org/p/cuyahoga-county-prosecutor-justice4jayla?source_location=petitions_browse', 'https://www.change.org/p/senator-ted-cruz-texans-demand-the-resignation-of-senator-ted-cruz?source_location=petitions_browse', 'https://www.change.org/p/help-save-dustin-john-higgs?source_location=petitions_browse', 'https://www.change.org/p/sen-josh-hawley-constituents-demanding-sen-josh-hawley-s-resignation?source_location=petitions_browse', 'https://www.change.org/p/impeached-twice-it-s-time-to-remove-45?source_location=petitions_browse', 'https://www.change.org/p/president-joe-biden-award-uscp-officer-eugene-goodman-the-medal-of-freedom?source_location=petitions_browse', 'https://www.change.org/p/voters-force-joel-osteen-to-pay-back-any-and-all-government-aid-funded-by-taxpayers?source_location=petitions_browse', 'https://www.change.org/p/rare-yaak-montana-female-grizzly-poached?source_location=petitions_browse', 'https://www.change.org/p/donald-j-trump-stop-the-execution-of-cory-johnson?source_location=petitions_browse', 'https://www.change.org/p/louisiana-governor-justice-for-quawan-charles?source_location=petitions_browse', 'https://www.change.org/p/senator-kevin-cramer-arrest-child-predator-richard-reiger?source_location=petitions_browse', 'https://www.change.org/p/liz-cheney-recall-liz-cheney-c420038b-80a0-4626-8cd2-8eeb700eff17?source_location=petitions_browse', 'https://www.change.org/p/jared-against-the-reinstating-of-aurora-police-officers-in-the-elijah-mcclain-case?source_location=petitions_browse', 'https://www.change.org/p/san-diego-housing-commission-keep-the-san-diego-convention-center-homeless-shelter?source_location=petitions_browse', 'https://www.change.org/p/the-state-of-indiana-remove-cory-johnson-from-death-row-and-prevent-his-scheduled-execution?source_location=petitions_browse', 'https://www.change.org/p/justice-for-eelam-united-nations-human-rights-council-session-46?source_location=petitions_browse', 'https://www.change.org/p/department-of-justice-doj-must-appoint-a-special-counsel-to-investigate-evidence-of-joe-biden-corruption?source_location=petitions_browse', 'https://www.change.org/p/baltimore-county-md-justice-for-a-young-man-unfairly-suspended-while-at-home-on-a-virtual-class?source_location=petitions_browse', 'https://www.change.org/p/government-save-the-sharks?source_location=petitions_browse', 'https://www.change.org/p/new-york-state-stop-nys-parks-from-euthanizing-relocating-feral-cats?source_location=petitions_browse', 'https://www.change.org/p/ron-desantis-advocate-children-s-rights-in-domestic-violence-abuse-situation?source_location=petitions_browse', 'https://www.change.org/p/csulb-students-save-puvungna-from-being-destroyed?source_location=petitions_browse', 'https://www.change.org/p/rescue-of-neglected-pitbull?source_location=petitions_browse', 'https://www.change.org/p/madison-cawthorn-must-resign?source_location=petitions_browse', 'https://www.change.org/p/congress-expel-the-senators-who-tried-to-overturn-the-election?source_location=petitions_browse', 'https://www.change.org/p/u-s-senate-trump-must-be-impeached-and-removed-from-office?source_location=petitions_browse', 'https://www.change.org/p/u-s-fish-and-wildlife-service-stop-arctic-drilling-save-polar-bears?source_location=petitions_browse', 'https://www.change.org/p/seattle-childrens-hospital-we-want-seattle-children-s-to-address-and-remediate-racism-called-out-by-dr-danielson?source_location=petitions_browse', 'https://www.change.org/p/utah-state-senate-make-it-illegal-to-house-dogs-outside-24-7-unless-they-are-being-used-as-farm-dogs-etc?source_location=petitions_browse', 'https://www.change.org/p/avery-county-justice-for-animals-in-avery-county-nc?source_location=petitions_browse', 'https://www.change.org/p/tee-hands-www-teehands-com-remove-anti-semetic-auschwitz-hateful-t-shirts-from-online-store?source_location=petitions_browse', 'https://www.change.org/p/massachusetts-parole-board-justice-for-corinne-comperchio-flynn-e3cd7e9e-c30f-4965-a6da-22dda67918e1?source_location=petitions_browse', 'https://www.change.org/p/congressional-leaders-expel-mo-sen-josh-hawley-sen-hawley-is-self-serving-seditious-and-dishonest-he-has-fomented-violence-and-domestic-terrorism-he-does-not-uphold-his-oaths-of-office-he-must-be-expelled-now?source_location=petitions_browse', 'https://www.change.org/p/boebert-must-resign?source_location=petitions_browse', 'https://www.change.org/p/steve-daines-steve-daines-should-resign?source_location=petitions_browse', 'https://www.change.org/p/hold-rudy-giuliani-accountable?source_location=petitions_browse', 'https://www.change.org/p/justice-for-dolal-idd?source_location=petitions_browse', 'https://www.change.org/p/donald-j-trump-take-dustin-john-higgs-out-of-death-row?source_location=petitions_browse', 'https://www.change.org/p/lausd-board-of-education-eliminate-riley-s-farm-as-an-approved-lausd-field-trip-site?source_location=petitions_browse', 'https://www.change.org/p/it-s-time-to-let-kobe-begin-his-life?source_location=petitions_browse', 'https://www.change.org/p/the-university-of-alabama-i-m-not-leaving-the-university-of-alabama?source_location=petitions_browse', 'https://www.change.org/p/us-congress-remove-josh-hawley-from-office-0919156c-29d8-4fde-b793-71275efbfffc?source_location=petitions_browse', 'https://www.change.org/p/chesterfield-county-school-board-chesterfield-county-schools-reinstate-wednesdays-off-give-the-option-of-pass-fail-grades?source_location=petitions_browse', 'https://www.change.org/p/loudoun-county-public-schools-return-to-original-lcps-distance-learning-schedule?source_location=petitions_browse', 'https://www.change.org/p/end-the-cruel-and-deadly-fur-trade-before-it-causes-the-next-pandemic?source_location=petitions_browse', 'https://www.change.org/p/us-fish-and-wildlife-grey-wolves-should-be-put-back-on-the-endangered-species-list-2b4ca83f-5da4-4957-9df8-c91dbaf8dd6c?source_location=petitions_browse', 'https://www.change.org/p/rep-mary-miller-demand-rep-mary-miller-resign?source_location=petitions_browse', 'https://www.change.org/p/president-elect-joe-biden-president-biden-award-uscp-officer-eugene-goodman-the-medal-of-freedom?source_location=petitions_browse', 'https://www.change.org/p/bureau-of-indian-education-please-stop-the-destruction-of-the-historic-little-singer-school-buildings-and-save-them-for-the-community?source_location=petitions_browse', 'https://www.change.org/p/sierra-unified-school-district-remove-james-hoak?source_location=petitions_browse', 'https://www.change.org/p/michigan-justice-system-put-awstin-murawski-in-prison-85f939c5-7af5-4c09-aa63-090e40f34dc4?source_location=petitions_browse', 'https://www.change.org/p/cnn-answers-and-granted-access-for-moses-harris?source_location=petitions_browse', 'https://www.change.org/p/demand-justice-for-casey-christian-goodson-jr?source_location=petitions_browse', 'https://www.change.org/p/elise-stefanik-elise-stefanik-r-to-resign-from-office-as-representative-of-new-york-s-21st-district?source_location=petitions_browse', 'https://www.change.org/p/the-united-states-senate-josh-hawley-s-resignation-or-expulsion-from-the-senate?source_location=petitions_browse', 'https://www.change.org/p/tanzania-australia-justice-for-zara-kay?source_location=petitions_browse', 'https://www.change.org/p/kenz-fandom-momma-mel-to-get-kenz-a-dog?source_location=petitions_browse', 'https://www.change.org/p/sri-ranganatha-swamy-temple-hr-ce-save-the-largest-hindu-temple-from-destruction?source_location=petitions_browse', 'https://www.change.org/p/u-s-national-park-services-stop-trump-from-drilling-for-oil-in-the-national-protected-arctic-refuge-today?source_location=petitions_browse', 'https://www.change.org/p/riverside-county-sheriff-department-justice-for-athena?source_location=petitions_browse', 'https://www.change.org/p/matt-rosendale-matt-rosendale-should-resign?source_location=petitions_browse', 'https://www.change.org/p/president-of-the-united-states-justice-for-jasmine-m-melendez?source_location=petitions_browse', 'https://www.change.org/p/9th-judicial-circuit-court-of-orange-county-justice-for-jace-leslie?source_location=petitions_browse', 'https://www.change.org/p/japan-fishing-agency-international-affairs-days-with-no-rescue-for-starving-dying-whale-caught-in-fishing-nets-in-japan?source_location=petitions_browse', 'https://www.change.org/p/corcoran-police-department-bringzekehome?source_location=petitions_browse', 'https://www.change.org/p/australia-quarantine-and-inspection-service-save-joe-the-pigeon?source_location=petitions_browse', 'https://www.change.org/p/u-s-house-of-representatives-military-members-and-veterans-who-participated-in-capitol-assault-should-lose-all-benefits?source_location=petitions_browse', 'https://www.change.org/p/glenbrook-north-mental-health-stability-amongst-student-body?source_location=petitions_browse', 'https://www.change.org/p/scott-perry-rep-scott-perry-r-pa-must-resign?source_location=petitions_browse', 'https://www.change.org/p/rand-paul-down-with-pound-seizure?source_location=petitions_browse', 'https://www.change.org/p/anyone-and-everyone-allow-males-to-wear-nail-polish?source_location=petitions_browse', 'https://www.change.org/p/petland-say-no-to-petland-in-memphis?source_location=petitions_browse', 'https://www.change.org/p/new-york-state-house-rename-of-donald-j-trump-park-to-sojourner-truth-park?source_location=petitions_browse', 'https://www.change.org/p/utah-state-senate-make-transporting-dogs-unsecured-on-truck-beds-illegal-in-the-state-of-utah?source_location=petitions_browse', 'https://www.change.org/p/united-states-department-of-the-interior-stop-the-sale-of-the-anwr-for-oil-drilling?source_location=petitions_browse', 'https://www.change.org/p/mitch-mcconnell-expel-senator-rafael-ted-cruz-from-the-senate?source_location=petitions_browse', 'https://www.change.org/p/new-hampshire-state-house-add-new-hampshire-teachers-to-phase-1b?source_location=petitions_browse', 'https://www.change.org/p/strip-section-230-protections-from-big-tech?source_location=petitions_browse', 'https://www.change.org/p/removepaulgosar-protect-our-constitution?source_location=petitions_browse', 'https://www.change.org/p/wa-steelhead-work-group-show-wdfw-you-don-t-support-current-restrictions-involving-coastal-steelhead?source_location=petitions_browse', 'https://www.change.org/p/starfleet-service-dogs-inc-allow-paul-marinsky-to-keep-tootsie?source_location=petitions_browse', 'https://www.change.org/p/amend-the-constitution-to-add-term-limits-for-senators-representatives-and-governors?source_location=petitions_browse', 'https://www.change.org/p/jason-snider-justice-for-jacob-macduff?source_location=petitions_browse', 'https://www.change.org/p/u-s-senate-expel-cruz-and-hawley-from-the-u-s-senate?source_location=petitions_browse', 'https://www.change.org/p/department-of-justice-petition-from-stanford-university-community-members-regarding-senator-josh-hawley?source_location=petitions_browse', 'https://www.change.org/p/petition-for-the-resignation-of-sen-tommy-tuberville-r-al?source_location=petitions_browse', 'https://www.change.org/p/protect-essential-autism-care-in-pa-before-january-17-2021?source_location=petitions_browse', 'https://www.change.org/p/united-states-department-of-health-and-human-services-improve-the-equity-quality-of-supportive-housing-for-the-mentally-ill?source_location=petitions_browse']\n"
     ]
    },
    {
     "output_type": "execute_result",
     "data": {
      "text/plain": [
       "90"
      ]
     },
     "metadata": {},
     "execution_count": 98
    }
   ],
   "source": [
    "print(urls1000)\n",
    "len(urls1000)"
   ]
  },
  {
   "cell_type": "markdown",
   "metadata": {},
   "source": [
    "# access each url and visit \n",
    "Make pandas dataframe that has petition name, image link, description, date<br/>\n",
    "Try to put into json file with structure:<br/>\n",
    "\n",
    "\"petitions\": \\[<br/>\n",
    "    &emsp;&emsp;{<br/>\n",
    "        &emsp;&emsp;&emsp;\"title\" : \"\",<br/>\n",
    "        &emsp;&emsp;&emsp;\"description\" : \"\",<br/>\n",
    "        &emsp;&emsp;&emsp;\"image link\" : \"\"<br/>\n",
    "    &emsp;&emsp;}, ...<br/>\n",
    "\\]<br/>"
   ]
  },
  {
   "cell_type": "code",
   "execution_count": 90,
   "metadata": {},
   "outputs": [],
   "source": [
    "#with open(\"pickles/urls1000.pickle\", 'wb') as f:\n",
    "#    pickle.dump(urls1000, f)"
   ]
  },
  {
   "cell_type": "code",
   "execution_count": 101,
   "metadata": {},
   "outputs": [],
   "source": [
    "json_dictionary = {\"petitions\":[]}\n",
    "\n",
    "for url in urls1000:   \n",
    "\n",
    "    # visit url:\n",
    "    driver.get(url)\n",
    "\n",
    "    # collect title -- note: slow reloads can cause blank page-- sleep(0.1) to avoid but still continue if not\n",
    "    try:\n",
    "        title = driver.find_element_by_css_selector(\".mtl.mbxxxl.xs-mts.xs-mbxs.petition-title\").get_attribute(\"innerHTML\")\n",
    "    except NoSuchElementException:\n",
    "        continue\n",
    "\n",
    "    # collect image url\n",
    "\n",
    "    image_url = driver.find_element_by_css_selector(\".sc-fzpmMD.fPcnhl\").get_attribute(\"src\")\n",
    "\n",
    "    # collect description from <p> tags\n",
    "    description = \"\"\n",
    "    p_tags = driver.find_elements_by_css_selector(\".mbl.type-break-word.type-l.rte [innerHTML]\")\n",
    "    for p in p_tags:\n",
    "        description += p.get_attribute(\"innerHTML\")\n",
    "\n",
    "    # define dictionary of petition data\n",
    "    petition_dictionary = {}\n",
    "    petition_dictionary[\"title\"] = title\n",
    "    petition_dictionary[\"description\"] = description\n",
    "    petition_dictionary[\"image_url\"] = image_url\n",
    "\n",
    "    json_dictionary[\"petitions\"].append(petition_dictionary)\n",
    "    sleep(0.1)\n",
    "\n",
    "with open(\"petitions.json\", \"w\") as outfile:\n",
    "    json.dump(json_dictionary, outfile)\n",
    "  \n"
   ]
  },
  {
   "cell_type": "code",
   "execution_count": null,
   "metadata": {},
   "outputs": [],
   "source": []
  }
 ],
 "metadata": {
  "anaconda-cloud": {},
  "kernelspec": {
   "name": "python3",
   "display_name": "Python 3.8.7 64-bit",
   "metadata": {
    "interpreter": {
     "hash": "1e3fc3fd5cc6611b408713c484747d9500a6295d1233da3fe53fbb9b1a925342"
    }
   }
  },
  "language_info": {
   "codemirror_mode": {
    "name": "ipython",
    "version": 2
   },
   "file_extension": ".py",
   "mimetype": "text/x-python",
   "name": "python",
   "nbconvert_exporter": "python",
   "pygments_lexer": "ipython2",
   "version": "3.8.7-final"
  }
 },
 "nbformat": 4,
 "nbformat_minor": 0
}